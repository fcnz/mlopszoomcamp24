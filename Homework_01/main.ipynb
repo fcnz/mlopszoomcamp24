{
 "cells": [
  {
   "cell_type": "markdown",
   "metadata": {},
   "source": [
    "## Q1. Downloading the data\n",
    "\n",
    "We'll use the same NYC taxi dataset, but instead of \"Green Taxi Trip Records\", we'll use \"Yellow Taxi Trip Records\".\n",
    "\n",
    "Download the data for January and February 2023.\n",
    "\n",
    "Read the data for January. How many columns are there?"
   ]
  },
  {
   "cell_type": "code",
   "execution_count": 1,
   "metadata": {},
   "outputs": [],
   "source": [
    "import pandas as pd"
   ]
  },
  {
   "cell_type": "code",
   "execution_count": 2,
   "metadata": {},
   "outputs": [
    {
     "name": "stdout",
     "output_type": "stream",
     "text": [
      "Jan data has 19 columns\n"
     ]
    }
   ],
   "source": [
    "jan_data = pd.read_parquet(\"./data/yellow_tripdata_2023-01.parquet\")\n",
    "\n",
    "print(f\"Jan data has {jan_data.shape[1]} columns\")"
   ]
  },
  {
   "cell_type": "markdown",
   "metadata": {},
   "source": [
    "## Q2. Computing duration\n",
    "\n",
    "Now let's compute the duration variable. It should contain the duration of a ride in minutes."
   ]
  },
  {
   "cell_type": "code",
   "execution_count": 3,
   "metadata": {},
   "outputs": [],
   "source": [
    "import datetime as datetime"
   ]
  },
  {
   "cell_type": "code",
   "execution_count": 4,
   "metadata": {},
   "outputs": [
    {
     "name": "stdout",
     "output_type": "stream",
     "text": [
      "Standard deviation of rides is 42.59 minutes\n"
     ]
    }
   ],
   "source": [
    "jan_data[\"duration\"] = jan_data[\"tpep_dropoff_datetime\"] - jan_data[\"tpep_pickup_datetime\"]\n",
    "duration_std_dev: datetime.timedelta = jan_data[\"duration\"].std()\n",
    "\n",
    "print(f\"Standard deviation of rides is {'{0:.2f}'.format(duration_std_dev.total_seconds() / 60)} minutes\")"
   ]
  },
  {
   "cell_type": "markdown",
   "metadata": {},
   "source": [
    "## Q3. Dropping outliers\n",
    "\n",
    "Next, we need to check the distribution of the duration variable. There are some outliers. Let's remove them and keep only the records where the duration was between 1 and 60 minutes (inclusive).\n",
    "\n",
    "What fraction of the records left after you dropped the outliers?"
   ]
  },
  {
   "cell_type": "code",
   "execution_count": 5,
   "metadata": {},
   "outputs": [],
   "source": [
    "import matplotlib.pyplot as plt"
   ]
  },
  {
   "cell_type": "code",
   "execution_count": 17,
   "metadata": {},
   "outputs": [
    {
     "name": "stdout",
     "output_type": "stream",
     "text": [
      "98% of rows remain in the dataset\n"
     ]
    }
   ],
   "source": [
    "jan_data[\"duration_seconds\"] = jan_data[\"duration\"].dt.total_seconds()\n",
    "jan_data[\"duration_minutes\"] = jan_data[\"duration_seconds\"] * (1/60)\n",
    "row_count = jan_data.shape[0]\n",
    "\n",
    "# jan_data[\"duration_minutes\"].hist(log=True)\n",
    "# plt.title(\"Distribution of durations in mins\")\n",
    "# plt.show()\n",
    "\n",
    "jan_data_filtered = jan_data[jan_data[\"duration_minutes\"].between(1, 60, inclusive='both')]\n",
    "filtered_row_count = jan_data_filtered.shape[0]\n",
    "\n",
    "# plt_2 = jan_data_filtered[\"duration_minutes\"].hist(log=False)\n",
    "# plt.title(\"Distribution without outliers\")\n",
    "# plt.show()\n",
    "\n",
    "print(f\"{round(100 * filtered_row_count / row_count)}% of rows remain in the dataset\")\n"
   ]
  },
  {
   "cell_type": "markdown",
   "metadata": {},
   "source": [
    "## Q4. One-hot encoding\n",
    "Let's apply one-hot encoding to the pickup and dropoff location IDs. We'll use only these two features for our model.\n",
    "\n",
    "* Turn the dataframe into a list of dictionaries (remember to re-cast the ids to strings - otherwise it will label encode them)\n",
    "* Fit a dictionary vectorizer\n",
    "* Get a feature matrix from it\n",
    "\n",
    "What's the dimensionality of this matrix (number of columns)?"
   ]
  },
  {
   "cell_type": "code",
   "execution_count": 7,
   "metadata": {},
   "outputs": [],
   "source": [
    "from sklearn.feature_extraction import DictVectorizer"
   ]
  },
  {
   "cell_type": "code",
   "execution_count": 8,
   "metadata": {},
   "outputs": [
    {
     "name": "stdout",
     "output_type": "stream",
     "text": [
      "The feature matrix has 515 columns\n"
     ]
    }
   ],
   "source": [
    "features = pd.DataFrame()\n",
    "features[\"PULocationID\"] = jan_data_filtered[\"PULocationID\"].apply(lambda x: str(x))\n",
    "features[\"DOLocationID\"] = jan_data_filtered[\"DOLocationID\"].apply(lambda x: str(x))\n",
    "features_dict = features.to_dict(orient=\"records\")\n",
    "\n",
    "vectorizer = DictVectorizer(sparse=True)\n",
    "feature_matrix = vectorizer.fit_transform(features_dict)\n",
    "\n",
    "print(f\"The feature matrix has {feature_matrix.shape[1]} columns\")"
   ]
  },
  {
   "cell_type": "markdown",
   "metadata": {},
   "source": [
    "## Q5. Training a model\n",
    "\n",
    "Now let's use the feature matrix from the previous step to train a model. \n",
    "\n",
    "* Train a plain linear regression model with default parameters \n",
    "* Calculate the RMSE of the model on the training data\n",
    "\n",
    "What's the RMSE on train?"
   ]
  },
  {
   "cell_type": "code",
   "execution_count": 9,
   "metadata": {},
   "outputs": [],
   "source": [
    "from sklearn.linear_model import LinearRegression\n",
    "from sklearn.metrics import mean_squared_error"
   ]
  },
  {
   "cell_type": "code",
   "execution_count": 10,
   "metadata": {},
   "outputs": [],
   "source": [
    "model = LinearRegression(n_jobs=16)\n",
    "model = model.fit(feature_matrix, jan_data_filtered[\"duration_minutes\"])"
   ]
  },
  {
   "cell_type": "code",
   "execution_count": 11,
   "metadata": {},
   "outputs": [],
   "source": [
    "import math"
   ]
  },
  {
   "cell_type": "code",
   "execution_count": 12,
   "metadata": {},
   "outputs": [
    {
     "name": "stdout",
     "output_type": "stream",
     "text": [
      "rmse of model on training data is 7.65\n"
     ]
    }
   ],
   "source": [
    "training_predicted = model.predict(feature_matrix)\n",
    "rmse_training = math.sqrt(mean_squared_error(jan_data_filtered[\"duration_minutes\"], training_predicted))\n",
    "print(f\"rmse of model on training data is {'{0:.2f}'.format(rmse_training)}\")"
   ]
  },
  {
   "cell_type": "markdown",
   "metadata": {},
   "source": [
    "## Q6. Evaluating the model\n",
    "\n",
    "Now let's apply this model to the validation dataset (February 2023). \n",
    "\n",
    "What's the RMSE on validation?"
   ]
  },
  {
   "cell_type": "code",
   "execution_count": 13,
   "metadata": {},
   "outputs": [
    {
     "name": "stdout",
     "output_type": "stream",
     "text": [
      "98% of rows remain in the dataset\n"
     ]
    }
   ],
   "source": [
    "feb_data = pd.read_parquet(\"./data/yellow_tripdata_2023-02.parquet\")\n",
    "\n",
    "feb_data[\"duration\"] = feb_data[\"tpep_dropoff_datetime\"] - feb_data[\"tpep_pickup_datetime\"]\n",
    "feb_data[\"duration_seconds\"] = feb_data[\"duration\"].dt.total_seconds()\n",
    "feb_data[\"duration_minutes\"] = feb_data[\"duration_seconds\"] * (1/60)\n",
    "feb_data_filtered = feb_data[feb_data[\"duration_minutes\"].between(1, 60, inclusive='both')]\n",
    "\n",
    "print(f\"{round((feb_data_filtered.shape[0] / feb_data.shape[0]) * 100)}% of rows remain in the dataset\")"
   ]
  },
  {
   "cell_type": "code",
   "execution_count": 14,
   "metadata": {},
   "outputs": [],
   "source": [
    "feb_features = pd.DataFrame()\n",
    "feb_features[\"PULocationID\"] = feb_data_filtered[\"PULocationID\"].apply(lambda x: str(x))\n",
    "feb_features[\"DOLocationID\"] = feb_data_filtered[\"DOLocationID\"].apply(lambda x: str(x))\n",
    "feb_features_dic = feb_features.to_dict(orient=\"records\")\n",
    "feb_feature_matrix = vectorizer.transform(feb_features_dic)"
   ]
  },
  {
   "cell_type": "code",
   "execution_count": 15,
   "metadata": {},
   "outputs": [
    {
     "name": "stdout",
     "output_type": "stream",
     "text": [
      "rmse of model for test data is 7.81\n"
     ]
    }
   ],
   "source": [
    "feb_predicted = model.predict(feb_feature_matrix)\n",
    "rmse_test = math.sqrt(mean_squared_error(feb_data_filtered[\"duration_minutes\"], feb_predicted))\n",
    "print(f\"rmse of model for test data is {'{0:.2f}'.format(rmse_test)}\")"
   ]
  }
 ],
 "metadata": {
  "kernelspec": {
   "display_name": "Python 3",
   "language": "python",
   "name": "python3"
  },
  "language_info": {
   "codemirror_mode": {
    "name": "ipython",
    "version": 3
   },
   "file_extension": ".py",
   "mimetype": "text/x-python",
   "name": "python",
   "nbconvert_exporter": "python",
   "pygments_lexer": "ipython3",
   "version": "3.11.5"
  }
 },
 "nbformat": 4,
 "nbformat_minor": 2
}
